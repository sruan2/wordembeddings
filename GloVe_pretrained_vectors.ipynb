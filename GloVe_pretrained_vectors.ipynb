{
 "cells": [
  {
   "cell_type": "markdown",
   "metadata": {
    "collapsed": true
   },
   "source": [
    "# GloVe (Global Vectors for Word Representation) - pretrained vectors\n",
    "\n",
    "\n",
    "GloVe: Global Vectors for Word Representation: https://nlp.stanford.edu/projects/glove/\n",
    "\n",
    "Pre-trained vectors were downloaded from their website and put in `./data/`:\n",
    "\n",
    "- `glove.840B.300d.zip`\n",
    "- `glove.6B.zip`"
   ]
  },
  {
   "cell_type": "code",
   "execution_count": 3,
   "metadata": {},
   "outputs": [],
   "source": [
    "import numpy as np\n",
    "import pandas as pd\n",
    "\n",
    "import zipfile\n",
    "import pickle"
   ]
  },
  {
   "cell_type": "markdown",
   "metadata": {},
   "source": [
    "## Preprocessing: storing for local usage"
   ]
  },
  {
   "cell_type": "markdown",
   "metadata": {},
   "source": [
    "The pretrained vectors are stored in text files. To enable faster loading in the other notebooks, we convert the text file to a pickle object with a dictionary of numpy arrays (a dictionary gives faster retrieval of vectors than a dataframe):"
   ]
  },
  {
   "cell_type": "code",
   "execution_count": 4,
   "metadata": {},
   "outputs": [],
   "source": [
    "z = zipfile.ZipFile(\"/Users/sherryruan/data/glove/glove.840B.300d.zip\")"
   ]
  },
  {
   "cell_type": "code",
   "execution_count": 5,
   "metadata": {
    "scrolled": true
   },
   "outputs": [
    {
     "name": "stdout",
     "output_type": "stream",
     "text": [
      "CPU times: user 2min 22s, sys: 21 s, total: 2min 43s\n",
      "Wall time: 2min 54s\n"
     ]
    }
   ],
   "source": [
    "%time glove = pd.read_csv(z.open('glove.840B.300d.txt'), sep=\" \", quoting=3, header=None, index_col=0)"
   ]
  },
  {
   "cell_type": "code",
   "execution_count": 6,
   "metadata": {},
   "outputs": [
    {
     "name": "stdout",
     "output_type": "stream",
     "text": [
      "<class 'pandas.core.frame.DataFrame'>\n",
      "Index: 2196017 entries, , to zulchzulu\n",
      "Columns: 300 entries, 1 to 300\n",
      "dtypes: float64(300)\n",
      "memory usage: 4.9+ GB\n"
     ]
    }
   ],
   "source": [
    "glove.info()"
   ]
  },
  {
   "cell_type": "code",
   "execution_count": 7,
   "metadata": {},
   "outputs": [
    {
     "name": "stdout",
     "output_type": "stream",
     "text": [
      "CPU times: user 45.1 s, sys: 490 ms, total: 45.6 s\n",
      "Wall time: 45.8 s\n"
     ]
    }
   ],
   "source": [
    "%time glove2 = {key: val.values for key, val in glove.T.items()}"
   ]
  },
  {
   "cell_type": "code",
   "execution_count": 8,
   "metadata": {},
   "outputs": [
    {
     "ename": "OSError",
     "evalue": "[Errno 22] Invalid argument",
     "output_type": "error",
     "traceback": [
      "\u001b[0;31m---------------------------------------------------------------------------\u001b[0m",
      "\u001b[0;31mOSError\u001b[0m                                   Traceback (most recent call last)",
      "\u001b[0;32m<ipython-input-8-2b3dd55cc3ef>\u001b[0m in \u001b[0;36m<module>\u001b[0;34m()\u001b[0m\n\u001b[1;32m      1\u001b[0m \u001b[0;32mwith\u001b[0m \u001b[0mopen\u001b[0m\u001b[0;34m(\u001b[0m\u001b[0;34m'/Users/sherryruan/data/glove/glove.840B.300d.pkl'\u001b[0m\u001b[0;34m,\u001b[0m \u001b[0;34m'wb'\u001b[0m\u001b[0;34m)\u001b[0m \u001b[0;32mas\u001b[0m \u001b[0moutput\u001b[0m\u001b[0;34m:\u001b[0m\u001b[0;34m\u001b[0m\u001b[0m\n\u001b[0;32m----> 2\u001b[0;31m     \u001b[0mpickle\u001b[0m\u001b[0;34m.\u001b[0m\u001b[0mdump\u001b[0m\u001b[0;34m(\u001b[0m\u001b[0mglove2\u001b[0m\u001b[0;34m,\u001b[0m \u001b[0moutput\u001b[0m\u001b[0;34m)\u001b[0m\u001b[0;34m\u001b[0m\u001b[0m\n\u001b[0m",
      "\u001b[0;31mOSError\u001b[0m: [Errno 22] Invalid argument"
     ]
    }
   ],
   "source": [
    "with open('/Users/sherryruan/data/glove/glove.840B.300d.pkl', 'wb') as output:\n",
    "    pickle.dump(glove2, output)"
   ]
  },
  {
   "cell_type": "markdown",
   "metadata": {},
   "source": [
    "The same for a smaller set of pretrained vectors (for testing on laptop):"
   ]
  },
  {
   "cell_type": "code",
   "execution_count": 2,
   "metadata": {},
   "outputs": [],
   "source": [
    "z = zipfile.ZipFile(\"data/glove.6B.zip\")"
   ]
  },
  {
   "cell_type": "code",
   "execution_count": 3,
   "metadata": {
    "collapsed": true
   },
   "outputs": [],
   "source": [
    "glove = pd.read_csv(z.open('glove.6B.50d.txt'), sep=\" \", quoting=3, header=None, index_col=0)"
   ]
  },
  {
   "cell_type": "code",
   "execution_count": 4,
   "metadata": {},
   "outputs": [
    {
     "data": {
      "text/plain": [
       "400001"
      ]
     },
     "execution_count": 4,
     "metadata": {},
     "output_type": "execute_result"
    }
   ],
   "source": [
    "len(glove)"
   ]
  },
  {
   "cell_type": "code",
   "execution_count": 5,
   "metadata": {
    "collapsed": true
   },
   "outputs": [],
   "source": [
    "glove2 = {key: val.values for key, val in glove.T.items()}"
   ]
  },
  {
   "cell_type": "code",
   "execution_count": 6,
   "metadata": {
    "collapsed": true
   },
   "outputs": [],
   "source": [
    "with open('data/glove.6B.50d.pkl', 'wb') as output:\n",
    "    pickle.dump(glove2, output)"
   ]
  },
  {
   "cell_type": "code",
   "execution_count": 7,
   "metadata": {},
   "outputs": [],
   "source": [
    "glove = pd.read_csv(z.open('glove.6B.300d.txt'), sep=\" \", quoting=3, header=None, index_col=0)"
   ]
  },
  {
   "cell_type": "code",
   "execution_count": 8,
   "metadata": {
    "collapsed": true
   },
   "outputs": [],
   "source": [
    "glove2 = {key: val.values for key, val in glove.T.items()}"
   ]
  },
  {
   "cell_type": "code",
   "execution_count": 9,
   "metadata": {
    "collapsed": true
   },
   "outputs": [],
   "source": [
    "with open('data/glove.6B.300d.pkl', 'wb') as output:\n",
    "    pickle.dump(glove2, output)"
   ]
  },
  {
   "cell_type": "markdown",
   "metadata": {},
   "source": [
    "## \"Most similar\" examples"
   ]
  },
  {
   "cell_type": "markdown",
   "metadata": {},
   "source": [
    "Typical example of looking for similar words and using arithmetic with the vectors:"
   ]
  },
  {
   "cell_type": "code",
   "execution_count": 2,
   "metadata": {},
   "outputs": [],
   "source": [
    "with open('data/glove.6B.50d.pkl', 'rb') as pkl:\n",
    "    glove = pickle.load(pkl)"
   ]
  },
  {
   "cell_type": "code",
   "execution_count": 3,
   "metadata": {},
   "outputs": [
    {
     "data": {
      "text/plain": [
       "400001"
      ]
     },
     "execution_count": 3,
     "metadata": {},
     "output_type": "execute_result"
    }
   ],
   "source": [
    "len(glove)"
   ]
  },
  {
   "cell_type": "code",
   "execution_count": 4,
   "metadata": {
    "collapsed": true
   },
   "outputs": [],
   "source": [
    "words = np.array(list(glove.keys()), dtype=object)"
   ]
  },
  {
   "cell_type": "code",
   "execution_count": 5,
   "metadata": {},
   "outputs": [
    {
     "data": {
      "text/plain": [
       "array([nan, 'h2', 'ukrainka', ..., 'mccauley', 'hochstein', 'formula_16'], dtype=object)"
      ]
     },
     "execution_count": 5,
     "metadata": {},
     "output_type": "execute_result"
    }
   ],
   "source": [
    "words"
   ]
  },
  {
   "cell_type": "code",
   "execution_count": 6,
   "metadata": {},
   "outputs": [],
   "source": [
    "W = np.array(list(glove.values()))"
   ]
  },
  {
   "cell_type": "code",
   "execution_count": 7,
   "metadata": {},
   "outputs": [
    {
     "data": {
      "text/plain": [
       "(400001, 50)"
      ]
     },
     "execution_count": 7,
     "metadata": {},
     "output_type": "execute_result"
    }
   ],
   "source": [
    "W.shape"
   ]
  },
  {
   "cell_type": "code",
   "execution_count": 8,
   "metadata": {
    "collapsed": true
   },
   "outputs": [],
   "source": [
    "def most_similar(positive, negative, topn=10, freq_threshold=5):\n",
    "    # Build a \"mean\" vector for the given positive and negative terms\n",
    "    mean_vecs = []\n",
    "    for word in positive: mean_vecs.append(np.array(glove[word]))\n",
    "    for word in negative: mean_vecs.append(-1 * np.array(glove[word]))\n",
    "    \n",
    "    mean = np.array(mean_vecs).mean(axis=0)\n",
    "    mean /= np.linalg.norm(mean)\n",
    "    \n",
    "    # Now calculate cosine distances between this mean vector and all others\n",
    "    dists = np.dot(W, mean)\n",
    "    \n",
    "    best = np.argsort(dists)[::-1][:topn + len(positive) + len(negative) + 100]\n",
    "    #result = [(glove.index[i], dists[i]) for i in best if (glove.index[i] not in positive\n",
    "    #                                                   and glove.index[i] not in negative)]\n",
    "    result = [(words[i], dists[i]) for i in best if (words[i] not in positive\n",
    "                                                     and words[i] not in negative)]\n",
    "    return result[:topn]"
   ]
  },
  {
   "cell_type": "code",
   "execution_count": 9,
   "metadata": {
    "scrolled": true
   },
   "outputs": [
    {
     "data": {
      "text/plain": [
       "[('emperor', 4.5522317437387363),\n",
       " ('queen', 4.4707483412266873),\n",
       " ('daughter', 4.4056688956373744),\n",
       " ('throne', 4.3990343836225838),\n",
       " ('princess', 4.2912411625741882),\n",
       " ('mother', 4.1046861120937779),\n",
       " ('son', 4.0783652863046713),\n",
       " ('wife', 4.0341628529250606),\n",
       " ('father', 3.8841932219905333),\n",
       " ('prince', 3.8836605925009895)]"
      ]
     },
     "execution_count": 9,
     "metadata": {},
     "output_type": "execute_result"
    }
   ],
   "source": [
    "most_similar(['king', 'woman'], ['man'], topn=10)"
   ]
  },
  {
   "cell_type": "code",
   "execution_count": 10,
   "metadata": {},
   "outputs": [
    {
     "data": {
      "text/plain": [
       "[('government', 4.4060056808470422),\n",
       " ('court', 4.2230486058381436),\n",
       " ('authorities', 4.1728568687095517),\n",
       " ('officials', 4.0757379978136026),\n",
       " ('seeking', 4.028460594566452),\n",
       " ('federal', 3.9511732544821281),\n",
       " ('legal', 3.9461690939479515),\n",
       " ('law', 3.8573565404382761),\n",
       " ('sought', 3.813629103812473),\n",
       " ('lawyers', 3.8025097790503763)]"
      ]
     },
     "execution_count": 10,
     "metadata": {},
     "output_type": "execute_result"
    }
   ],
   "source": [
    "most_similar(['brought', 'seek'], ['bring'], topn=10)"
   ]
  },
  {
   "cell_type": "code",
   "execution_count": 11,
   "metadata": {},
   "outputs": [
    {
     "data": {
      "text/plain": [
       "[('leptodactylidae', 4.6448479174033874),\n",
       " ('species', 4.524305824885948),\n",
       " ('ranidae', 4.4521810203063836),\n",
       " ('snails', 4.305010980198257),\n",
       " ('colubrid', 4.169195834533201),\n",
       " ('hylidae', 4.0862506971969976),\n",
       " ('snake', 4.0245443051038361),\n",
       " ('genus', 4.0109517209291301),\n",
       " ('cichlid', 4.0078101032802813),\n",
       " ('rhacophoridae', 3.972399387075912),\n",
       " ('bulbophyllum', 3.9643366428646245),\n",
       " ('eleutherodactylus', 3.9527980532154907),\n",
       " ('salticidae', 3.9363336863806349),\n",
       " ('nonvenomous', 3.9025431608540417),\n",
       " ('swallowtail', 3.8977048290428926),\n",
       " ('larvae', 3.8944229951597307),\n",
       " ('spiny', 3.8917372539864701),\n",
       " ('shrub', 3.8694668851746679),\n",
       " ('microhylidae', 3.8545271995546564),\n",
       " ('endemic', 3.8507680036214382),\n",
       " ('frogs', 3.8420260919459257),\n",
       " ('litoria', 3.8346105522739773),\n",
       " ('conita', 3.8340106472154991),\n",
       " ('orchid', 3.8120856931806566),\n",
       " ('deciduous', 3.790041215037518)]"
      ]
     },
     "execution_count": 11,
     "metadata": {},
     "output_type": "execute_result"
    }
   ],
   "source": [
    "most_similar(['frog'], [], topn=25)"
   ]
  },
  {
   "cell_type": "markdown",
   "metadata": {},
   "source": [
    "The same but with the longer vectors (300D instead of 50D)"
   ]
  },
  {
   "cell_type": "code",
   "execution_count": 12,
   "metadata": {},
   "outputs": [],
   "source": [
    "with open('data/glove.6B.300d.pkl', 'rb') as pkl:\n",
    "    glove = pickle.load(pkl)"
   ]
  },
  {
   "cell_type": "code",
   "execution_count": 13,
   "metadata": {
    "collapsed": true
   },
   "outputs": [],
   "source": [
    "words = np.array(list(glove.keys()), dtype=object)"
   ]
  },
  {
   "cell_type": "code",
   "execution_count": 14,
   "metadata": {},
   "outputs": [
    {
     "data": {
      "text/plain": [
       "array([nan, 'h2', 'ukrainka', ..., 'mccauley', 'hochstein', 'formula_16'], dtype=object)"
      ]
     },
     "execution_count": 14,
     "metadata": {},
     "output_type": "execute_result"
    }
   ],
   "source": [
    "words"
   ]
  },
  {
   "cell_type": "code",
   "execution_count": 15,
   "metadata": {
    "collapsed": true
   },
   "outputs": [],
   "source": [
    "W = np.array(list(glove.values()))"
   ]
  },
  {
   "cell_type": "code",
   "execution_count": 16,
   "metadata": {
    "scrolled": false
   },
   "outputs": [
    {
     "data": {
      "text/plain": [
       "[('queen', 4.7798604491546293),\n",
       " ('throne', 4.1617390290010059),\n",
       " ('princess', 4.0176014384787102),\n",
       " ('monarch', 3.5503961933354162),\n",
       " ('prince', 3.5282495697922043),\n",
       " ('emperor', 3.4229433212252323),\n",
       " ('bhumibol', 3.39467904195855),\n",
       " ('daughter', 3.3614950090666631),\n",
       " ('royal', 3.3260806738609885),\n",
       " ('kingdom', 3.2824227939558357)]"
      ]
     },
     "execution_count": 16,
     "metadata": {},
     "output_type": "execute_result"
    }
   ],
   "source": [
    "most_similar(['king', 'woman'], ['man'], topn=10)"
   ]
  },
  {
   "cell_type": "code",
   "execution_count": 17,
   "metadata": {},
   "outputs": [
    {
     "data": {
      "text/plain": [
       "[('seeking', 3.8770598487739543),\n",
       " ('sought', 3.5124546878821725),\n",
       " ('asylum', 3.3548816905035657),\n",
       " ('court', 3.2465193778798045),\n",
       " ('appeals', 3.148861767209775),\n",
       " ('extradition', 3.1360908305538659),\n",
       " ('legal', 3.0855724113011336),\n",
       " ('filed', 3.0321240339064923),\n",
       " ('immediate', 3.0124572034007948),\n",
       " ('appeal', 3.0000189683126619)]"
      ]
     },
     "execution_count": 17,
     "metadata": {},
     "output_type": "execute_result"
    }
   ],
   "source": [
    "most_similar(['brought', 'seek'], ['bring'], topn=10)"
   ]
  },
  {
   "cell_type": "code",
   "execution_count": 18,
   "metadata": {},
   "outputs": [
    {
     "data": {
      "text/plain": [
       "[('toad', 4.3813890523860888),\n",
       " ('frogs', 4.3293474979923019),\n",
       " ('genus', 4.0009066283615216),\n",
       " ('species', 3.9308852243381445),\n",
       " ('moth', 3.5720826464332598),\n",
       " ('ranidae', 3.4867772155465415),\n",
       " ('salticidae', 3.4715610081939543),\n",
       " ('hylidae', 3.3220798456072944),\n",
       " ('snake', 3.2789408441515406),\n",
       " ('toads', 3.229218005366838)]"
      ]
     },
     "execution_count": 18,
     "metadata": {},
     "output_type": "execute_result"
    }
   ],
   "source": [
    "most_similar(['frog'], [], topn=10)"
   ]
  },
  {
   "cell_type": "code",
   "execution_count": 19,
   "metadata": {},
   "outputs": [
    {
     "data": {
      "text/plain": [
       "[('berlin', 5.3698714145161528),\n",
       " ('frankfurt', 5.1199776702533448),\n",
       " ('munich', 4.7197065599932646),\n",
       " ('german', 4.4663966237105521),\n",
       " ('cologne', 4.1446456615296841),\n",
       " ('vienna', 4.1214259539953755),\n",
       " ('bonn', 4.0708874256000485),\n",
       " ('hamburg', 4.0663950993484459),\n",
       " ('stuttgart', 3.9669588674404164),\n",
       " ('leipzig', 3.8246614146305467)]"
      ]
     },
     "execution_count": 19,
     "metadata": {},
     "output_type": "execute_result"
    }
   ],
   "source": [
    "most_similar(['paris', 'germany'], ['france'], topn=10)"
   ]
  },
  {
   "cell_type": "code",
   "execution_count": null,
   "metadata": {
    "collapsed": true
   },
   "outputs": [],
   "source": []
  }
 ],
 "metadata": {
  "kernelspec": {
   "display_name": "Python 3",
   "language": "python",
   "name": "python3"
  },
  "language_info": {
   "codemirror_mode": {
    "name": "ipython",
    "version": 3
   },
   "file_extension": ".py",
   "mimetype": "text/x-python",
   "name": "python",
   "nbconvert_exporter": "python",
   "pygments_lexer": "ipython3",
   "version": "3.6.3"
  },
  "nav_menu": {},
  "toc": {
   "navigate_menu": true,
   "number_sections": true,
   "sideBar": true,
   "threshold": 6,
   "toc_cell": false,
   "toc_section_display": "block",
   "toc_window_display": false
  }
 },
 "nbformat": 4,
 "nbformat_minor": 2
}
