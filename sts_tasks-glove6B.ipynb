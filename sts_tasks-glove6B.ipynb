{
 "cells": [
  {
   "cell_type": "code",
   "execution_count": 2,
   "metadata": {},
   "outputs": [],
   "source": [
    "%matplotlib inline\n",
    "\n",
    "import numpy as np\n",
    "import matplotlib.pyplot as plt\n",
    "import pandas as pd"
   ]
  },
  {
   "cell_type": "markdown",
   "metadata": {},
   "source": [
    "# Sentence embeddings and textual similarity"
   ]
  },
  {
   "cell_type": "markdown",
   "metadata": {},
   "source": [
    "In this notebook we try to replicate the experimental results on textual similarity tasks from **A Simple but Tough-to-Beat Baseline for Sentence Embeddings** (Arora *et al*. 2017, https://openreview.net/pdf?id=SyK00v5xx)"
   ]
  },
  {
   "cell_type": "markdown",
   "metadata": {},
   "source": [
    "## Semantic Textual Similarity (STS) data"
   ]
  },
  {
   "cell_type": "markdown",
   "metadata": {},
   "source": [
    "The [SemEval](http://alt.qcri.org/semeval2016/) data are obtained from the `datasets-sts` repo: https://github.com/brmson/dataset-sts\n",
    "\n",
    "`pysts` (included in this repo) can be used to load STS tasks data."
   ]
  },
  {
   "cell_type": "code",
   "execution_count": 3,
   "metadata": {},
   "outputs": [],
   "source": [
    "import sys\n",
    "sys.path.append('./dataset-sts/')"
   ]
  },
  {
   "cell_type": "code",
   "execution_count": 4,
   "metadata": {},
   "outputs": [],
   "source": [
    "import pysts\n",
    "from pysts.loader import load_sts"
   ]
  },
  {
   "cell_type": "markdown",
   "metadata": {},
   "source": [
    "For example, the headlines dataset of SemEval 2015:"
   ]
  },
  {
   "cell_type": "code",
   "execution_count": 5,
   "metadata": {},
   "outputs": [],
   "source": [
    "s0, s1, labels = load_sts(\"dataset-sts/data/sts/semeval-sts/2015/headlines.test.tsv\")"
   ]
  },
  {
   "cell_type": "markdown",
   "metadata": {},
   "source": [
    "This gives two lists of lists of the sentences (`s0` and `s1`), and the corresponding labels:"
   ]
  },
  {
   "cell_type": "code",
   "execution_count": 6,
   "metadata": {},
   "outputs": [
    {
     "data": {
      "text/plain": [
       "['3',\n",
       " 'Suspects',\n",
       " 'Taken',\n",
       " 'Into',\n",
       " 'Custody',\n",
       " 'in',\n",
       " 'Boston',\n",
       " 'Bombing',\n",
       " 'Case']"
      ]
     },
     "execution_count": 6,
     "metadata": {},
     "output_type": "execute_result"
    }
   ],
   "source": [
    "s0[44]"
   ]
  },
  {
   "cell_type": "code",
   "execution_count": 7,
   "metadata": {},
   "outputs": [
    {
     "data": {
      "text/plain": [
       "['Boston',\n",
       " 'police',\n",
       " 'say',\n",
       " '3',\n",
       " 'taken',\n",
       " 'into',\n",
       " 'custody',\n",
       " 'in',\n",
       " 'Marathon',\n",
       " 'bombing']"
      ]
     },
     "execution_count": 7,
     "metadata": {},
     "output_type": "execute_result"
    }
   ],
   "source": [
    "s1[44]"
   ]
  },
  {
   "cell_type": "code",
   "execution_count": 8,
   "metadata": {},
   "outputs": [
    {
     "data": {
      "text/plain": [
       "4.7999999999999998"
      ]
     },
     "execution_count": 8,
     "metadata": {},
     "output_type": "execute_result"
    }
   ],
   "source": [
    "labels[44]"
   ]
  },
  {
   "cell_type": "code",
   "execution_count": 9,
   "metadata": {},
   "outputs": [
    {
     "name": "stdout",
     "output_type": "stream",
     "text": [
      "0.0\n",
      "5.0\n"
     ]
    }
   ],
   "source": [
    "print(min(labels))\n",
    "print(max(labels))"
   ]
  },
  {
   "cell_type": "markdown",
   "metadata": {},
   "source": [
    "By default, it excluded those pair of sentences that had not a label (can also use `skip_unlabeled=False`):"
   ]
  },
  {
   "cell_type": "code",
   "execution_count": 10,
   "metadata": {},
   "outputs": [
    {
     "data": {
      "text/plain": [
       "750"
      ]
     },
     "execution_count": 10,
     "metadata": {},
     "output_type": "execute_result"
    }
   ],
   "source": [
    "len(labels)"
   ]
  },
  {
   "cell_type": "code",
   "execution_count": 11,
   "metadata": {},
   "outputs": [],
   "source": [
    "s0, s1, labels = load_sts(\"dataset-sts/data/sts/semeval-sts/2015/headlines.test.tsv\", skip_unlabeled=False)"
   ]
  },
  {
   "cell_type": "code",
   "execution_count": 12,
   "metadata": {},
   "outputs": [
    {
     "data": {
      "text/plain": [
       "1500"
      ]
     },
     "execution_count": 12,
     "metadata": {},
     "output_type": "execute_result"
    }
   ],
   "source": [
    "len(labels)"
   ]
  },
  {
   "cell_type": "code",
   "execution_count": 13,
   "metadata": {},
   "outputs": [],
   "source": [
    "s0, s1, labels = load_sts(\"dataset-sts/data/sts/semeval-sts/2015/headlines.test.tsv\", skip_unlabeled=True)"
   ]
  },
  {
   "cell_type": "markdown",
   "metadata": {},
   "source": [
    "## GloVe pre-trained word vectors "
   ]
  },
  {
   "cell_type": "markdown",
   "metadata": {},
   "source": [
    "GloVe - Global Vectors for Word Representation (https://nlp.stanford.edu/projects/glove/). Pre-trained word vectors have been downloaded (we use the 300-dimensional vectors trained on the 840 billion token Common Crawl corpus: http://nlp.stanford.edu/data/glove.840B.300d.zip), and converted to a dictionary for further usage:\n",
    "    \n",
    "    import pandas as pd\n",
    "    import zipfile\n",
    "    \n",
    "    z = zipfile.ZipFile(\"./glove.840B.300d.zip\")\n",
    "    glove = pd.read_csv(z.open('glove.840B.300d.txt'), sep=\" \", quoting=3, header=None, index_col=0)\n",
    "    glove2 = {key: val.values for key, val in glove.T.items()}\n",
    "    \n",
    "    import pickle\n",
    "    with open('glove.840B.300d.pkl', 'wb') as output:\n",
    "        pickle.dump(glove2, output)"
   ]
  },
  {
   "cell_type": "code",
   "execution_count": 52,
   "metadata": {},
   "outputs": [],
   "source": [
    "import pandas as pd\n",
    "import zipfile\n",
    "\n",
    "#z = zipfile.ZipFile(\"/Users/sherryruan/data/glove/glove.840B.300d.zip\")\n",
    "#glove = pd.read_csv(z.open('glove.840B.300d.txt'), sep=\" \", quoting=3, header=None, index_col=0)\n",
    "# change to glove.6B instead\n",
    "glove = pd.read_csv('/Users/sherryruan/data/glove/glove.6B/glove.6B.300d.txt', sep=\" \", quoting=3, header=None, index_col=0)\n",
    "glove2 = {key: val.values for key, val in glove.T.items()}\n",
    "\n",
    "import pickle\n",
    "with open('/Users/sherryruan/data/glove/glove.6B/glove.6B.300d.pkl', 'wb') as output:\n",
    "    pickle.dump(glove2, output)"
   ]
  },
  {
   "cell_type": "code",
   "execution_count": 14,
   "metadata": {},
   "outputs": [],
   "source": [
    "import pickle"
   ]
  },
  {
   "cell_type": "code",
   "execution_count": 15,
   "metadata": {},
   "outputs": [],
   "source": [
    "with open('/Users/sherryruan/data/glove/glove.6B/glove.6B.300d.pkl', 'rb') as pkl:\n",
    "    glove = pickle.load(pkl)"
   ]
  },
  {
   "cell_type": "markdown",
   "metadata": {},
   "source": [
    "For example, the 300 D array for 'python':"
   ]
  },
  {
   "cell_type": "code",
   "execution_count": 16,
   "metadata": {
    "scrolled": true
   },
   "outputs": [
    {
     "data": {
      "text/plain": [
       "(300,)"
      ]
     },
     "execution_count": 16,
     "metadata": {},
     "output_type": "execute_result"
    }
   ],
   "source": [
    "glove['python'].shape"
   ]
  },
  {
   "cell_type": "code",
   "execution_count": 17,
   "metadata": {},
   "outputs": [
    {
     "data": {
      "text/plain": [
       "array([-0.68621  , -0.21032  ,  0.30084  , -0.20957  , -0.14055  ,\n",
       "        0.16589  , -0.063815 ,  0.0059568, -0.2608   ,  0.088066 ])"
      ]
     },
     "execution_count": 17,
     "metadata": {},
     "output_type": "execute_result"
    }
   ],
   "source": [
    "glove['python'][:10]"
   ]
  },
  {
   "cell_type": "markdown",
   "metadata": {},
   "source": [
    "For some of the methods below, we also need the word frequencies estimated from the corpus. As we currently don't have this available for the GloVe pretrained vectors / Common Crawl corpus, we use the `wordfreq` package (https://github.com/LuminosoInsight/wordfreq/): "
   ]
  },
  {
   "cell_type": "code",
   "execution_count": 18,
   "metadata": {},
   "outputs": [],
   "source": [
    "import wordfreq"
   ]
  },
  {
   "cell_type": "code",
   "execution_count": 19,
   "metadata": {},
   "outputs": [
    {
     "data": {
      "text/plain": [
       "5.128613839913648e-06"
      ]
     },
     "execution_count": 19,
     "metadata": {},
     "output_type": "execute_result"
    }
   ],
   "source": [
    "wordfreq.word_frequency('python', 'en', wordlist='large')"
   ]
  },
  {
   "cell_type": "code",
   "execution_count": 20,
   "metadata": {},
   "outputs": [
    {
     "data": {
      "text/plain": [
       "0.025703957827688632"
      ]
     },
     "execution_count": 20,
     "metadata": {},
     "output_type": "execute_result"
    }
   ],
   "source": [
    "wordfreq.word_frequency('and', 'en', wordlist='large')"
   ]
  },
  {
   "cell_type": "markdown",
   "metadata": {},
   "source": [
    "## Predict similarity between sentences (STS tasks) based on GloVe"
   ]
  },
  {
   "cell_type": "markdown",
   "metadata": {},
   "source": [
    "To predict the similarity between two sentences, the word embeddings (using the GloVe word vectors) are combined into a sentence embedding. \n",
    "\n",
    "Similarity is calculate as the cosine similarity of the two sentence embeddings, and the performance is evaluated as the Pearson's coefficient between the predicted scores and the labels:"
   ]
  },
  {
   "cell_type": "code",
   "execution_count": 21,
   "metadata": {},
   "outputs": [],
   "source": [
    "def cosine_similarity(v1, v2):\n",
    "    return np.dot(v1, v2) / (np.linalg.norm(v1) * np.linalg.norm(v2))"
   ]
  },
  {
   "cell_type": "code",
   "execution_count": 22,
   "metadata": {},
   "outputs": [],
   "source": [
    "from scipy.stats import pearsonr"
   ]
  },
  {
   "cell_type": "markdown",
   "metadata": {},
   "source": [
    "### avg-GloVe: unweighted average of GloVe vectors"
   ]
  },
  {
   "cell_type": "markdown",
   "metadata": {},
   "source": [
    "A simple method is to take the unweighted average of the different word vectors:"
   ]
  },
  {
   "cell_type": "code",
   "execution_count": 23,
   "metadata": {},
   "outputs": [],
   "source": [
    "def sentence_vector_avg(sentence):\n",
    "    \"\"\"Calculate the sentence vector as the mean of the word vectors\"\"\"\n",
    "    \n",
    "    word_vecs = []\n",
    "    for token in sentence:\n",
    "        token = token.lower()\n",
    "        try:\n",
    "            word_vecs.append(np.array(glove[token]))\n",
    "        except KeyError:\n",
    "            pass\n",
    "\n",
    "    return np.array(word_vecs).mean(axis=0)\n",
    "\n",
    "def embed_avg(sentences):\n",
    "    \"\"\"Calculate sentence embeddings for set of sentences\n",
    "    based on the average of the word vectors\n",
    "    \"\"\"\n",
    "    \n",
    "    values = []\n",
    "    for s in sentences:\n",
    "        mean = sentence_vector_avg(s)\n",
    "        values.append(mean)\n",
    "        \n",
    "    return np.array(values)"
   ]
  },
  {
   "cell_type": "markdown",
   "metadata": {},
   "source": [
    "Predict similarity between two sentences:"
   ]
  },
  {
   "cell_type": "code",
   "execution_count": 24,
   "metadata": {},
   "outputs": [],
   "source": [
    "v0 = sentence_vector_avg(s0[0])"
   ]
  },
  {
   "cell_type": "code",
   "execution_count": 25,
   "metadata": {},
   "outputs": [],
   "source": [
    "v1 = sentence_vector_avg(s1[0])"
   ]
  },
  {
   "cell_type": "code",
   "execution_count": 26,
   "metadata": {
    "scrolled": true
   },
   "outputs": [
    {
     "data": {
      "text/plain": [
       "0.76406580625096898"
      ]
     },
     "execution_count": 26,
     "metadata": {},
     "output_type": "execute_result"
    }
   ],
   "source": [
    "cosine_similarity(v0, v1)"
   ]
  },
  {
   "cell_type": "markdown",
   "metadata": {},
   "source": [
    "Predict similarity for the full set of sentences:"
   ]
  },
  {
   "cell_type": "code",
   "execution_count": 27,
   "metadata": {},
   "outputs": [],
   "source": [
    "Vs0 = embed_avg(s0)\n",
    "Vs1 = embed_avg(s1)\n",
    "predicted = np.array([cosine_similarity(vs0, vs1) for vs0, vs1 in zip(Vs0, Vs1)])"
   ]
  },
  {
   "cell_type": "code",
   "execution_count": 28,
   "metadata": {},
   "outputs": [
    {
     "data": {
      "text/plain": [
       "<matplotlib.collections.PathCollection at 0x116911da0>"
      ]
     },
     "execution_count": 28,
     "metadata": {},
     "output_type": "execute_result"
    },
    {
     "data": {
      "image/png": "[encoded data removed]",
      "text/plain": [
       "<matplotlib.figure.Figure at 0x1168f8be0>"
      ]
     },
     "metadata": {},
     "output_type": "display_data"
    }
   ],
   "source": [
    "plt.scatter(predicted, labels)"
   ]
  },
  {
   "cell_type": "markdown",
   "metadata": {},
   "source": [
    "The evaluation criterion is the Pearson's coefficient between the predicted scores and the labels:"
   ]
  },
  {
   "cell_type": "code",
   "execution_count": 30,
   "metadata": {},
   "outputs": [
    {
     "data": {
      "text/plain": [
       "0.65647903053936174"
      ]
     },
     "execution_count": 30,
     "metadata": {},
     "output_type": "execute_result"
    }
   ],
   "source": [
    "pearsonr(predicted, labels)[0]"
   ]
  },
  {
   "cell_type": "markdown",
   "metadata": {},
   "source": [
    "#### Systematically on all STS tasks"
   ]
  },
  {
   "cell_type": "code",
   "execution_count": 31,
   "metadata": {},
   "outputs": [],
   "source": [
    "def evaluate_tasks(files, embed_func):\n",
    "\n",
    "    tests = []\n",
    "    scores = []\n",
    "\n",
    "    for f in files:\n",
    "        s0, s1, labels = load_sts(f)\n",
    "        Vs0 = embed_func(s0)\n",
    "        Vs1 = embed_func(s1)\n",
    "        predicted = np.array([cosine_similarity(vs0, vs1) for vs0, vs1 in zip(Vs0, Vs1)])\n",
    "        rp = pearsonr(predicted, labels)[0]\n",
    "\n",
    "        scores.append(rp)\n",
    "        name = f.split('/')[-1].split('.')\n",
    "        tests.append((name[0], name[1]))\n",
    "    \n",
    "    return pd.Series(scores, index=pd.MultiIndex.from_tuples(tests))"
   ]
  },
  {
   "cell_type": "code",
   "execution_count": 32,
   "metadata": {},
   "outputs": [],
   "source": [
    "import glob"
   ]
  },
  {
   "cell_type": "code",
   "execution_count": 33,
   "metadata": {},
   "outputs": [
    {
     "data": {
      "text/plain": [
       "['dataset-sts/data/sts/semeval-sts/all/2012.MSRpar.test.tsv',\n",
       " 'dataset-sts/data/sts/semeval-sts/all/2012.OnWN.test.tsv',\n",
       " 'dataset-sts/data/sts/semeval-sts/all/2012.SMTeuroparl.test.tsv',\n",
       " 'dataset-sts/data/sts/semeval-sts/all/2012.SMTnews.test.tsv',\n",
       " 'dataset-sts/data/sts/semeval-sts/all/2013.FNWN.test.tsv',\n",
       " 'dataset-sts/data/sts/semeval-sts/all/2013.headlines.test.tsv',\n",
       " 'dataset-sts/data/sts/semeval-sts/all/2013.OnWN.test.tsv',\n",
       " 'dataset-sts/data/sts/semeval-sts/all/2014.deft-forum.test.tsv',\n",
       " 'dataset-sts/data/sts/semeval-sts/all/2014.deft-news.test.tsv',\n",
       " 'dataset-sts/data/sts/semeval-sts/all/2014.headlines.test.tsv',\n",
       " 'dataset-sts/data/sts/semeval-sts/all/2014.images.test.tsv',\n",
       " 'dataset-sts/data/sts/semeval-sts/all/2014.OnWN.test.tsv',\n",
       " 'dataset-sts/data/sts/semeval-sts/all/2014.tweet-news.test.tsv',\n",
       " 'dataset-sts/data/sts/semeval-sts/all/2015.answers-forums.test.tsv',\n",
       " 'dataset-sts/data/sts/semeval-sts/all/2015.answers-students.test.tsv',\n",
       " 'dataset-sts/data/sts/semeval-sts/all/2015.belief.test.tsv',\n",
       " 'dataset-sts/data/sts/semeval-sts/all/2015.headlines.test.tsv',\n",
       " 'dataset-sts/data/sts/semeval-sts/all/2015.images.test.tsv',\n",
       " 'dataset-sts/data/sts/semeval-sts/all/2015.test.tsv',\n",
       " 'dataset-sts/data/sts/semeval-sts/all/2016.answer-answer.test.tsv',\n",
       " 'dataset-sts/data/sts/semeval-sts/all/2016.headlines.test.tsv',\n",
       " 'dataset-sts/data/sts/semeval-sts/all/2016.plagiarism.test.tsv',\n",
       " 'dataset-sts/data/sts/semeval-sts/all/2016.postediting.test.tsv',\n",
       " 'dataset-sts/data/sts/semeval-sts/all/2016.question-question.test.tsv']"
      ]
     },
     "execution_count": 33,
     "metadata": {},
     "output_type": "execute_result"
    }
   ],
   "source": [
    "files = glob.glob(\"dataset-sts/data/sts/semeval-sts/all/*.test.tsv\")\n",
    "files"
   ]
  },
  {
   "cell_type": "code",
   "execution_count": 34,
   "metadata": {},
   "outputs": [],
   "source": [
    "files.remove('dataset-sts/data/sts/semeval-sts/all/2015.test.tsv')"
   ]
  },
  {
   "cell_type": "code",
   "execution_count": 35,
   "metadata": {},
   "outputs": [],
   "source": [
    "res_avg = evaluate_tasks(files, embed_avg)"
   ]
  },
  {
   "cell_type": "code",
   "execution_count": 36,
   "metadata": {},
   "outputs": [],
   "source": [
    "res = res_avg.to_frame(name='avg-GloVe') * 100"
   ]
  },
  {
   "cell_type": "code",
   "execution_count": 37,
   "metadata": {},
   "outputs": [
    {
     "data": {
      "text/html": [
       "<div>\n",
       "<style scoped>\n",
       "    .dataframe tbody tr th:only-of-type {\n",
       "        vertical-align: middle;\n",
       "    }\n",
       "\n",
       "    .dataframe tbody tr th {\n",
       "        vertical-align: top;\n",
       "    }\n",
       "\n",
       "    .dataframe thead th {\n",
       "        text-align: right;\n",
       "    }\n",
       "</style>\n",
       "<table border=\"1\" class=\"dataframe\">\n",
       "  <thead>\n",
       "    <tr style=\"text-align: right;\">\n",
       "      <th></th>\n",
       "      <th></th>\n",
       "      <th>avg-GloVe</th>\n",
       "    </tr>\n",
       "  </thead>\n",
       "  <tbody>\n",
       "    <tr>\n",
       "      <th rowspan=\"4\" valign=\"top\">2012</th>\n",
       "      <th>MSRpar</th>\n",
       "      <td>43.8</td>\n",
       "    </tr>\n",
       "    <tr>\n",
       "      <th>OnWN</th>\n",
       "      <td>52.7</td>\n",
       "    </tr>\n",
       "    <tr>\n",
       "      <th>SMTeuroparl</th>\n",
       "      <td>44.5</td>\n",
       "    </tr>\n",
       "    <tr>\n",
       "      <th>SMTnews</th>\n",
       "      <td>46.3</td>\n",
       "    </tr>\n",
       "    <tr>\n",
       "      <th rowspan=\"3\" valign=\"top\">2013</th>\n",
       "      <th>FNWN</th>\n",
       "      <td>36.9</td>\n",
       "    </tr>\n",
       "    <tr>\n",
       "      <th>headlines</th>\n",
       "      <td>60.5</td>\n",
       "    </tr>\n",
       "    <tr>\n",
       "      <th>OnWN</th>\n",
       "      <td>42.4</td>\n",
       "    </tr>\n",
       "    <tr>\n",
       "      <th rowspan=\"6\" valign=\"top\">2014</th>\n",
       "      <th>deft-forum</th>\n",
       "      <td>25.4</td>\n",
       "    </tr>\n",
       "    <tr>\n",
       "      <th>deft-news</th>\n",
       "      <td>69.2</td>\n",
       "    </tr>\n",
       "    <tr>\n",
       "      <th>headlines</th>\n",
       "      <td>58.7</td>\n",
       "    </tr>\n",
       "    <tr>\n",
       "      <th>images</th>\n",
       "      <td>57.6</td>\n",
       "    </tr>\n",
       "    <tr>\n",
       "      <th>OnWN</th>\n",
       "      <td>54.1</td>\n",
       "    </tr>\n",
       "    <tr>\n",
       "      <th>tweet-news</th>\n",
       "      <td>51.9</td>\n",
       "    </tr>\n",
       "    <tr>\n",
       "      <th rowspan=\"5\" valign=\"top\">2015</th>\n",
       "      <th>answers-forums</th>\n",
       "      <td>31.6</td>\n",
       "    </tr>\n",
       "    <tr>\n",
       "      <th>answers-students</th>\n",
       "      <td>63.8</td>\n",
       "    </tr>\n",
       "    <tr>\n",
       "      <th>belief</th>\n",
       "      <td>38.7</td>\n",
       "    </tr>\n",
       "    <tr>\n",
       "      <th>headlines</th>\n",
       "      <td>65.6</td>\n",
       "    </tr>\n",
       "    <tr>\n",
       "      <th>images</th>\n",
       "      <td>65.4</td>\n",
       "    </tr>\n",
       "    <tr>\n",
       "      <th rowspan=\"5\" valign=\"top\">2016</th>\n",
       "      <th>answer-answer</th>\n",
       "      <td>35.1</td>\n",
       "    </tr>\n",
       "    <tr>\n",
       "      <th>headlines</th>\n",
       "      <td>58.8</td>\n",
       "    </tr>\n",
       "    <tr>\n",
       "      <th>plagiarism</th>\n",
       "      <td>50.9</td>\n",
       "    </tr>\n",
       "    <tr>\n",
       "      <th>postediting</th>\n",
       "      <td>48.1</td>\n",
       "    </tr>\n",
       "    <tr>\n",
       "      <th>question-question</th>\n",
       "      <td>47.4</td>\n",
       "    </tr>\n",
       "  </tbody>\n",
       "</table>\n",
       "</div>"
      ],
      "text/plain": [
       "                        avg-GloVe\n",
       "2012 MSRpar                  43.8\n",
       "     OnWN                    52.7\n",
       "     SMTeuroparl             44.5\n",
       "     SMTnews                 46.3\n",
       "2013 FNWN                    36.9\n",
       "     headlines               60.5\n",
       "     OnWN                    42.4\n",
       "2014 deft-forum              25.4\n",
       "     deft-news               69.2\n",
       "     headlines               58.7\n",
       "     images                  57.6\n",
       "     OnWN                    54.1\n",
       "     tweet-news              51.9\n",
       "2015 answers-forums          31.6\n",
       "     answers-students        63.8\n",
       "     belief                  38.7\n",
       "     headlines               65.6\n",
       "     images                  65.4\n",
       "2016 answer-answer           35.1\n",
       "     headlines               58.8\n",
       "     plagiarism              50.9\n",
       "     postediting             48.1\n",
       "     question-question       47.4"
      ]
     },
     "execution_count": 37,
     "metadata": {},
     "output_type": "execute_result"
    }
   ],
   "source": [
    "res.round(1)"
   ]
  },
  {
   "cell_type": "code",
   "execution_count": 38,
   "metadata": {
    "scrolled": true
   },
   "outputs": [
    {
     "data": {
      "text/html": [
       "<div>\n",
       "<style scoped>\n",
       "    .dataframe tbody tr th:only-of-type {\n",
       "        vertical-align: middle;\n",
       "    }\n",
       "\n",
       "    .dataframe tbody tr th {\n",
       "        vertical-align: top;\n",
       "    }\n",
       "\n",
       "    .dataframe thead th {\n",
       "        text-align: right;\n",
       "    }\n",
       "</style>\n",
       "<table border=\"1\" class=\"dataframe\">\n",
       "  <thead>\n",
       "    <tr style=\"text-align: right;\">\n",
       "      <th></th>\n",
       "      <th>avg-GloVe</th>\n",
       "    </tr>\n",
       "  </thead>\n",
       "  <tbody>\n",
       "    <tr>\n",
       "      <th>2012</th>\n",
       "      <td>46.8</td>\n",
       "    </tr>\n",
       "    <tr>\n",
       "      <th>2013</th>\n",
       "      <td>46.6</td>\n",
       "    </tr>\n",
       "    <tr>\n",
       "      <th>2014</th>\n",
       "      <td>52.8</td>\n",
       "    </tr>\n",
       "    <tr>\n",
       "      <th>2015</th>\n",
       "      <td>53.0</td>\n",
       "    </tr>\n",
       "    <tr>\n",
       "      <th>2016</th>\n",
       "      <td>48.1</td>\n",
       "    </tr>\n",
       "  </tbody>\n",
       "</table>\n",
       "</div>"
      ],
      "text/plain": [
       "      avg-GloVe\n",
       "2012       46.8\n",
       "2013       46.6\n",
       "2014       52.8\n",
       "2015       53.0\n",
       "2016       48.1"
      ]
     },
     "execution_count": 38,
     "metadata": {},
     "output_type": "execute_result"
    }
   ],
   "source": [
    "res.mean(axis=0, level=0).round(1)"
   ]
  },
  {
   "cell_type": "markdown",
   "metadata": {},
   "source": [
    "### GloVe+W: weighted average of GloVe vectors"
   ]
  },
  {
   "cell_type": "markdown",
   "metadata": {},
   "source": [
    "In the Arora *et al.* (2017) paper, a weighted average of the word vectors (smooth inverse frequency weighting) is used based on word frequencies estimated from the commoncrawl dataset. Here, we use the `wordfreq` package (https://github.com/LuminosoInsight/wordfreq/) as alternative."
   ]
  },
  {
   "cell_type": "code",
   "execution_count": 39,
   "metadata": {},
   "outputs": [],
   "source": [
    "import wordfreq\n",
    "\n",
    "def sentence_vector_avg_W(sentence, a=1e-3):\n",
    "    \"\"\"Calculate the sentence vector as the mean of the word vectors\"\"\"\n",
    "    \n",
    "    word_vecs = []\n",
    "    for token in sentence:\n",
    "        token = token.lower()\n",
    "        try:\n",
    "            vw = np.array(glove[token])\n",
    "            freq = wordfreq.word_frequency(token, 'en', wordlist='large')\n",
    "            vw *= a / (a + freq)\n",
    "            word_vecs.append(vw)\n",
    "        except KeyError:\n",
    "            pass\n",
    "\n",
    "    return np.array(word_vecs).mean(axis=0)\n",
    "\n",
    "def embed_avg_W(sentences):\n",
    "    \"\"\"Calculate sentence embeddings for set of sentences\n",
    "    based on the average of the word vectors\n",
    "    \"\"\"\n",
    "    \n",
    "    values = []\n",
    "    for s in sentences:\n",
    "        mean = sentence_vector_avg_W(s)\n",
    "        values.append(mean)\n",
    "        \n",
    "    return np.array(values)"
   ]
  },
  {
   "cell_type": "code",
   "execution_count": 40,
   "metadata": {},
   "outputs": [],
   "source": [
    "res_avg_W = evaluate_tasks(files, embed_avg_W)"
   ]
  },
  {
   "cell_type": "code",
   "execution_count": 41,
   "metadata": {},
   "outputs": [],
   "source": [
    "res = pd.concat([res_avg, res_avg_W], keys=['avg-GloVe', 'GloVe+W'], axis=1) * 100"
   ]
  },
  {
   "cell_type": "code",
   "execution_count": 42,
   "metadata": {},
   "outputs": [
    {
     "data": {
      "text/html": [
       "<div>\n",
       "<style scoped>\n",
       "    .dataframe tbody tr th:only-of-type {\n",
       "        vertical-align: middle;\n",
       "    }\n",
       "\n",
       "    .dataframe tbody tr th {\n",
       "        vertical-align: top;\n",
       "    }\n",
       "\n",
       "    .dataframe thead th {\n",
       "        text-align: right;\n",
       "    }\n",
       "</style>\n",
       "<table border=\"1\" class=\"dataframe\">\n",
       "  <thead>\n",
       "    <tr style=\"text-align: right;\">\n",
       "      <th></th>\n",
       "      <th></th>\n",
       "      <th>avg-GloVe</th>\n",
       "      <th>GloVe+W</th>\n",
       "    </tr>\n",
       "  </thead>\n",
       "  <tbody>\n",
       "    <tr>\n",
       "      <th rowspan=\"4\" valign=\"top\">2012</th>\n",
       "      <th>MSRpar</th>\n",
       "      <td>43.8</td>\n",
       "      <td>36.9</td>\n",
       "    </tr>\n",
       "    <tr>\n",
       "      <th>OnWN</th>\n",
       "      <td>52.7</td>\n",
       "      <td>58.2</td>\n",
       "    </tr>\n",
       "    <tr>\n",
       "      <th>SMTeuroparl</th>\n",
       "      <td>44.5</td>\n",
       "      <td>48.1</td>\n",
       "    </tr>\n",
       "    <tr>\n",
       "      <th>SMTnews</th>\n",
       "      <td>46.3</td>\n",
       "      <td>47.0</td>\n",
       "    </tr>\n",
       "    <tr>\n",
       "      <th rowspan=\"3\" valign=\"top\">2013</th>\n",
       "      <th>FNWN</th>\n",
       "      <td>36.9</td>\n",
       "      <td>38.5</td>\n",
       "    </tr>\n",
       "    <tr>\n",
       "      <th>headlines</th>\n",
       "      <td>60.5</td>\n",
       "      <td>64.5</td>\n",
       "    </tr>\n",
       "    <tr>\n",
       "      <th>OnWN</th>\n",
       "      <td>42.4</td>\n",
       "      <td>62.1</td>\n",
       "    </tr>\n",
       "    <tr>\n",
       "      <th rowspan=\"6\" valign=\"top\">2014</th>\n",
       "      <th>deft-forum</th>\n",
       "      <td>25.4</td>\n",
       "      <td>30.1</td>\n",
       "    </tr>\n",
       "    <tr>\n",
       "      <th>deft-news</th>\n",
       "      <td>69.2</td>\n",
       "      <td>71.7</td>\n",
       "    </tr>\n",
       "    <tr>\n",
       "      <th>headlines</th>\n",
       "      <td>58.7</td>\n",
       "      <td>62.0</td>\n",
       "    </tr>\n",
       "    <tr>\n",
       "      <th>images</th>\n",
       "      <td>57.6</td>\n",
       "      <td>76.5</td>\n",
       "    </tr>\n",
       "    <tr>\n",
       "      <th>OnWN</th>\n",
       "      <td>54.1</td>\n",
       "      <td>68.6</td>\n",
       "    </tr>\n",
       "    <tr>\n",
       "      <th>tweet-news</th>\n",
       "      <td>51.9</td>\n",
       "      <td>55.5</td>\n",
       "    </tr>\n",
       "    <tr>\n",
       "      <th rowspan=\"5\" valign=\"top\">2015</th>\n",
       "      <th>answers-forums</th>\n",
       "      <td>31.6</td>\n",
       "      <td>43.6</td>\n",
       "    </tr>\n",
       "    <tr>\n",
       "      <th>answers-students</th>\n",
       "      <td>63.8</td>\n",
       "      <td>68.5</td>\n",
       "    </tr>\n",
       "    <tr>\n",
       "      <th>belief</th>\n",
       "      <td>38.7</td>\n",
       "      <td>51.9</td>\n",
       "    </tr>\n",
       "    <tr>\n",
       "      <th>headlines</th>\n",
       "      <td>65.6</td>\n",
       "      <td>69.0</td>\n",
       "    </tr>\n",
       "    <tr>\n",
       "      <th>images</th>\n",
       "      <td>65.4</td>\n",
       "      <td>75.5</td>\n",
       "    </tr>\n",
       "    <tr>\n",
       "      <th rowspan=\"5\" valign=\"top\">2016</th>\n",
       "      <th>answer-answer</th>\n",
       "      <td>35.1</td>\n",
       "      <td>44.1</td>\n",
       "    </tr>\n",
       "    <tr>\n",
       "      <th>headlines</th>\n",
       "      <td>58.8</td>\n",
       "      <td>63.8</td>\n",
       "    </tr>\n",
       "    <tr>\n",
       "      <th>plagiarism</th>\n",
       "      <td>50.9</td>\n",
       "      <td>69.4</td>\n",
       "    </tr>\n",
       "    <tr>\n",
       "      <th>postediting</th>\n",
       "      <td>48.1</td>\n",
       "      <td>57.5</td>\n",
       "    </tr>\n",
       "    <tr>\n",
       "      <th>question-question</th>\n",
       "      <td>47.4</td>\n",
       "      <td>63.2</td>\n",
       "    </tr>\n",
       "  </tbody>\n",
       "</table>\n",
       "</div>"
      ],
      "text/plain": [
       "                        avg-GloVe  GloVe+W\n",
       "2012 MSRpar                  43.8     36.9\n",
       "     OnWN                    52.7     58.2\n",
       "     SMTeuroparl             44.5     48.1\n",
       "     SMTnews                 46.3     47.0\n",
       "2013 FNWN                    36.9     38.5\n",
       "     headlines               60.5     64.5\n",
       "     OnWN                    42.4     62.1\n",
       "2014 deft-forum              25.4     30.1\n",
       "     deft-news               69.2     71.7\n",
       "     headlines               58.7     62.0\n",
       "     images                  57.6     76.5\n",
       "     OnWN                    54.1     68.6\n",
       "     tweet-news              51.9     55.5\n",
       "2015 answers-forums          31.6     43.6\n",
       "     answers-students        63.8     68.5\n",
       "     belief                  38.7     51.9\n",
       "     headlines               65.6     69.0\n",
       "     images                  65.4     75.5\n",
       "2016 answer-answer           35.1     44.1\n",
       "     headlines               58.8     63.8\n",
       "     plagiarism              50.9     69.4\n",
       "     postediting             48.1     57.5\n",
       "     question-question       47.4     63.2"
      ]
     },
     "execution_count": 42,
     "metadata": {},
     "output_type": "execute_result"
    }
   ],
   "source": [
    "res.round(1)"
   ]
  },
  {
   "cell_type": "code",
   "execution_count": 43,
   "metadata": {
    "scrolled": false
   },
   "outputs": [
    {
     "data": {
      "text/html": [
       "<div>\n",
       "<style scoped>\n",
       "    .dataframe tbody tr th:only-of-type {\n",
       "        vertical-align: middle;\n",
       "    }\n",
       "\n",
       "    .dataframe tbody tr th {\n",
       "        vertical-align: top;\n",
       "    }\n",
       "\n",
       "    .dataframe thead th {\n",
       "        text-align: right;\n",
       "    }\n",
       "</style>\n",
       "<table border=\"1\" class=\"dataframe\">\n",
       "  <thead>\n",
       "    <tr style=\"text-align: right;\">\n",
       "      <th></th>\n",
       "      <th>avg-GloVe</th>\n",
       "      <th>GloVe+W</th>\n",
       "    </tr>\n",
       "  </thead>\n",
       "  <tbody>\n",
       "    <tr>\n",
       "      <th>2012</th>\n",
       "      <td>46.8</td>\n",
       "      <td>47.6</td>\n",
       "    </tr>\n",
       "    <tr>\n",
       "      <th>2013</th>\n",
       "      <td>46.6</td>\n",
       "      <td>55.0</td>\n",
       "    </tr>\n",
       "    <tr>\n",
       "      <th>2014</th>\n",
       "      <td>52.8</td>\n",
       "      <td>60.7</td>\n",
       "    </tr>\n",
       "    <tr>\n",
       "      <th>2015</th>\n",
       "      <td>53.0</td>\n",
       "      <td>61.7</td>\n",
       "    </tr>\n",
       "    <tr>\n",
       "      <th>2016</th>\n",
       "      <td>48.1</td>\n",
       "      <td>59.6</td>\n",
       "    </tr>\n",
       "  </tbody>\n",
       "</table>\n",
       "</div>"
      ],
      "text/plain": [
       "      avg-GloVe  GloVe+W\n",
       "2012       46.8     47.6\n",
       "2013       46.6     55.0\n",
       "2014       52.8     60.7\n",
       "2015       53.0     61.7\n",
       "2016       48.1     59.6"
      ]
     },
     "execution_count": 43,
     "metadata": {},
     "output_type": "execute_result"
    }
   ],
   "source": [
    "res.mean(axis=0, level=0).round(1)"
   ]
  },
  {
   "cell_type": "markdown",
   "metadata": {
    "collapsed": true
   },
   "source": [
    "The weighting scheme considerably improves the similarity scores."
   ]
  },
  {
   "cell_type": "markdown",
   "metadata": {},
   "source": [
    "### Using the GloVe+WR method"
   ]
  },
  {
   "cell_type": "markdown",
   "metadata": {},
   "source": [
    "The weighted average from above, but now combined with a removal of the common components, from Arora *et al.* (2017) (https://openreview.net/pdf?id=SyK00v5xx)\n",
    "\n",
    "The algorithm for sentence embedding (Algorithm 1, page 6, Arora et al. 2017):\n",
    "\n",
    "> **Input** Word embeddings $\\{v_w : w \\in \\mathcal{V}\\}$, a set of sentences $\\mathcal{S}$, parameter $a$ and estimated probabilities $\\{p(w) : w \\in \\mathcal{V}\\}$.  \n",
    "> **Output**: Sentence embeddings $\\{v_s : s \\in \\mathcal{S}\\}$\n",
    ">\n",
    "> 1: **for all** sentence $s$ in $\\mathcal{S}$ **do**  \n",
    "> 2: $ \\phantom{...} v_s \\gets \\frac{1}{|s|} \\sum_{w \\in s}{\\frac{a}{a + p(w)} v_w}$  \n",
    "> 3: **end for**  \n",
    "> 4: Compute the first principal component $u$ of $\\{v_s : s \\in \\mathcal{S}\\}$  \n",
    "> 5: **for all** sentence $s$ in $\\mathcal{S}$ **do**  \n",
    "> 6: $ \\phantom{...} v_s \\gets v_s - u u^T v_s$  \n",
    "> 7: **end for**  "
   ]
  },
  {
   "cell_type": "markdown",
   "metadata": {},
   "source": [
    "The weighted average to obtain the sentence embeddings $v_s$ (lines 1-3 in the algorithm) is the same as above (using `sentence_vector_avg_W`), but now afterwards the full matrix of those vectors is further adapted:"
   ]
  },
  {
   "cell_type": "code",
   "execution_count": 44,
   "metadata": {},
   "outputs": [],
   "source": [
    "from sklearn.decomposition import PCA, TruncatedSVD\n",
    "\n",
    "def embed_avg_WR(sentences):\n",
    "    \"\"\"Calculate sentence embeddings for set of sentences\n",
    "    based on the weighted average of the word vectors +\n",
    "    applying subtraction of first principal component projection.\n",
    "    \"\"\"\n",
    "    \n",
    "    # weighted average of word vectors for all sentences\n",
    "    values = []\n",
    "    for s in sentences:\n",
    "        mean = sentence_vector_avg_W(s)\n",
    "        values.append(mean)\n",
    "        \n",
    "    X = np.array(values)\n",
    "    \n",
    "    # removal of common component\n",
    "    #pca = PCA(n_components=1).fit(X)\n",
    "    #u = pca.components_#[0]\n",
    "    \n",
    "    svd = TruncatedSVD(n_components=1, n_iter=7, random_state=0).fit(X)\n",
    "    u = svd.components_[0]\n",
    "    \n",
    "    return X - np.dot(X, np.outer(u, u))"
   ]
  },
  {
   "cell_type": "markdown",
   "metadata": {},
   "source": [
    "The code to evaluate on all tasks is slightly adapted, as we do the embedding (and thus component removal) on all sentences (both left and right sentences) together:"
   ]
  },
  {
   "cell_type": "code",
   "execution_count": 45,
   "metadata": {},
   "outputs": [],
   "source": [
    "def evaluate_tasks2(files, embed_func):\n",
    "\n",
    "    tests = []\n",
    "    scores = []\n",
    "\n",
    "    for f in files:\n",
    "        s0, s1, labels = load_sts(f)\n",
    "        \n",
    "        # combine left and right sentences, embed, and split again\n",
    "        s0 = np.array(s0)\n",
    "        s1 = np.array(s1)\n",
    "        embedded = embed_func(np.concatenate((s0, s1), axis=0))\n",
    "        Vs0 = embedded[:s0.shape[0]]\n",
    "        Vs1 = embedded[s0.shape[0]:]\n",
    "        \n",
    "        predicted = np.array([cosine_similarity(vs0, vs1) for vs0, vs1 in zip(Vs0, Vs1)])\n",
    "        rp = pearsonr(predicted, labels)[0]\n",
    "\n",
    "        scores.append(rp)\n",
    "        name = f.split('/')[-1].split('.')\n",
    "        tests.append((name[0], name[1]))\n",
    "    \n",
    "    return pd.Series(scores, index=pd.MultiIndex.from_tuples(tests))"
   ]
  },
  {
   "cell_type": "code",
   "execution_count": 46,
   "metadata": {},
   "outputs": [],
   "source": [
    "res_avg_WR = evaluate_tasks(files, embed_avg_WR)"
   ]
  },
  {
   "cell_type": "code",
   "execution_count": 47,
   "metadata": {},
   "outputs": [],
   "source": [
    "res = pd.concat([res_avg, res_avg_W, res_avg_WR], keys=['avg-GloVe', 'GloVe+W', 'GloVe+WR'], axis=1) * 100"
   ]
  },
  {
   "cell_type": "code",
   "execution_count": 48,
   "metadata": {},
   "outputs": [
    {
     "data": {
      "text/html": [
       "<div>\n",
       "<style scoped>\n",
       "    .dataframe tbody tr th:only-of-type {\n",
       "        vertical-align: middle;\n",
       "    }\n",
       "\n",
       "    .dataframe tbody tr th {\n",
       "        vertical-align: top;\n",
       "    }\n",
       "\n",
       "    .dataframe thead th {\n",
       "        text-align: right;\n",
       "    }\n",
       "</style>\n",
       "<table border=\"1\" class=\"dataframe\">\n",
       "  <thead>\n",
       "    <tr style=\"text-align: right;\">\n",
       "      <th></th>\n",
       "      <th></th>\n",
       "      <th>avg-GloVe</th>\n",
       "      <th>GloVe+W</th>\n",
       "      <th>GloVe+WR</th>\n",
       "    </tr>\n",
       "  </thead>\n",
       "  <tbody>\n",
       "    <tr>\n",
       "      <th rowspan=\"4\" valign=\"top\">2012</th>\n",
       "      <th>MSRpar</th>\n",
       "      <td>43.8</td>\n",
       "      <td>36.9</td>\n",
       "      <td>28.3</td>\n",
       "    </tr>\n",
       "    <tr>\n",
       "      <th>OnWN</th>\n",
       "      <td>52.7</td>\n",
       "      <td>58.2</td>\n",
       "      <td>68.6</td>\n",
       "    </tr>\n",
       "    <tr>\n",
       "      <th>SMTeuroparl</th>\n",
       "      <td>44.5</td>\n",
       "      <td>48.1</td>\n",
       "      <td>49.0</td>\n",
       "    </tr>\n",
       "    <tr>\n",
       "      <th>SMTnews</th>\n",
       "      <td>46.3</td>\n",
       "      <td>47.0</td>\n",
       "      <td>49.2</td>\n",
       "    </tr>\n",
       "    <tr>\n",
       "      <th rowspan=\"3\" valign=\"top\">2013</th>\n",
       "      <th>FNWN</th>\n",
       "      <td>36.9</td>\n",
       "      <td>38.5</td>\n",
       "      <td>43.3</td>\n",
       "    </tr>\n",
       "    <tr>\n",
       "      <th>headlines</th>\n",
       "      <td>60.5</td>\n",
       "      <td>64.5</td>\n",
       "      <td>70.7</td>\n",
       "    </tr>\n",
       "    <tr>\n",
       "      <th>OnWN</th>\n",
       "      <td>42.4</td>\n",
       "      <td>62.1</td>\n",
       "      <td>78.3</td>\n",
       "    </tr>\n",
       "    <tr>\n",
       "      <th rowspan=\"6\" valign=\"top\">2014</th>\n",
       "      <th>deft-forum</th>\n",
       "      <td>25.4</td>\n",
       "      <td>30.1</td>\n",
       "      <td>36.2</td>\n",
       "    </tr>\n",
       "    <tr>\n",
       "      <th>deft-news</th>\n",
       "      <td>69.2</td>\n",
       "      <td>71.7</td>\n",
       "      <td>72.2</td>\n",
       "    </tr>\n",
       "    <tr>\n",
       "      <th>headlines</th>\n",
       "      <td>58.7</td>\n",
       "      <td>62.0</td>\n",
       "      <td>66.7</td>\n",
       "    </tr>\n",
       "    <tr>\n",
       "      <th>images</th>\n",
       "      <td>57.6</td>\n",
       "      <td>76.5</td>\n",
       "      <td>82.6</td>\n",
       "    </tr>\n",
       "    <tr>\n",
       "      <th>OnWN</th>\n",
       "      <td>54.1</td>\n",
       "      <td>68.6</td>\n",
       "      <td>80.8</td>\n",
       "    </tr>\n",
       "    <tr>\n",
       "      <th>tweet-news</th>\n",
       "      <td>51.9</td>\n",
       "      <td>55.5</td>\n",
       "      <td>68.6</td>\n",
       "    </tr>\n",
       "    <tr>\n",
       "      <th rowspan=\"5\" valign=\"top\">2015</th>\n",
       "      <th>answers-forums</th>\n",
       "      <td>31.6</td>\n",
       "      <td>43.6</td>\n",
       "      <td>61.9</td>\n",
       "    </tr>\n",
       "    <tr>\n",
       "      <th>answers-students</th>\n",
       "      <td>63.8</td>\n",
       "      <td>68.5</td>\n",
       "      <td>72.8</td>\n",
       "    </tr>\n",
       "    <tr>\n",
       "      <th>belief</th>\n",
       "      <td>38.7</td>\n",
       "      <td>51.9</td>\n",
       "      <td>74.2</td>\n",
       "    </tr>\n",
       "    <tr>\n",
       "      <th>headlines</th>\n",
       "      <td>65.6</td>\n",
       "      <td>69.0</td>\n",
       "      <td>74.9</td>\n",
       "    </tr>\n",
       "    <tr>\n",
       "      <th>images</th>\n",
       "      <td>65.4</td>\n",
       "      <td>75.5</td>\n",
       "      <td>81.9</td>\n",
       "    </tr>\n",
       "    <tr>\n",
       "      <th rowspan=\"5\" valign=\"top\">2016</th>\n",
       "      <th>answer-answer</th>\n",
       "      <td>35.1</td>\n",
       "      <td>44.1</td>\n",
       "      <td>50.1</td>\n",
       "    </tr>\n",
       "    <tr>\n",
       "      <th>headlines</th>\n",
       "      <td>58.8</td>\n",
       "      <td>63.8</td>\n",
       "      <td>71.4</td>\n",
       "    </tr>\n",
       "    <tr>\n",
       "      <th>plagiarism</th>\n",
       "      <td>50.9</td>\n",
       "      <td>69.4</td>\n",
       "      <td>76.6</td>\n",
       "    </tr>\n",
       "    <tr>\n",
       "      <th>postediting</th>\n",
       "      <td>48.1</td>\n",
       "      <td>57.5</td>\n",
       "      <td>79.3</td>\n",
       "    </tr>\n",
       "    <tr>\n",
       "      <th>question-question</th>\n",
       "      <td>47.4</td>\n",
       "      <td>63.2</td>\n",
       "      <td>69.3</td>\n",
       "    </tr>\n",
       "  </tbody>\n",
       "</table>\n",
       "</div>"
      ],
      "text/plain": [
       "                        avg-GloVe  GloVe+W  GloVe+WR\n",
       "2012 MSRpar                  43.8     36.9      28.3\n",
       "     OnWN                    52.7     58.2      68.6\n",
       "     SMTeuroparl             44.5     48.1      49.0\n",
       "     SMTnews                 46.3     47.0      49.2\n",
       "2013 FNWN                    36.9     38.5      43.3\n",
       "     headlines               60.5     64.5      70.7\n",
       "     OnWN                    42.4     62.1      78.3\n",
       "2014 deft-forum              25.4     30.1      36.2\n",
       "     deft-news               69.2     71.7      72.2\n",
       "     headlines               58.7     62.0      66.7\n",
       "     images                  57.6     76.5      82.6\n",
       "     OnWN                    54.1     68.6      80.8\n",
       "     tweet-news              51.9     55.5      68.6\n",
       "2015 answers-forums          31.6     43.6      61.9\n",
       "     answers-students        63.8     68.5      72.8\n",
       "     belief                  38.7     51.9      74.2\n",
       "     headlines               65.6     69.0      74.9\n",
       "     images                  65.4     75.5      81.9\n",
       "2016 answer-answer           35.1     44.1      50.1\n",
       "     headlines               58.8     63.8      71.4\n",
       "     plagiarism              50.9     69.4      76.6\n",
       "     postediting             48.1     57.5      79.3\n",
       "     question-question       47.4     63.2      69.3"
      ]
     },
     "execution_count": 48,
     "metadata": {},
     "output_type": "execute_result"
    }
   ],
   "source": [
    "res.round(1)"
   ]
  },
  {
   "cell_type": "code",
   "execution_count": 49,
   "metadata": {},
   "outputs": [
    {
     "data": {
      "text/html": [
       "<div>\n",
       "<style scoped>\n",
       "    .dataframe tbody tr th:only-of-type {\n",
       "        vertical-align: middle;\n",
       "    }\n",
       "\n",
       "    .dataframe tbody tr th {\n",
       "        vertical-align: top;\n",
       "    }\n",
       "\n",
       "    .dataframe thead th {\n",
       "        text-align: right;\n",
       "    }\n",
       "</style>\n",
       "<table border=\"1\" class=\"dataframe\">\n",
       "  <thead>\n",
       "    <tr style=\"text-align: right;\">\n",
       "      <th></th>\n",
       "      <th>avg-GloVe</th>\n",
       "      <th>GloVe+W</th>\n",
       "      <th>GloVe+WR</th>\n",
       "    </tr>\n",
       "  </thead>\n",
       "  <tbody>\n",
       "    <tr>\n",
       "      <th>2012</th>\n",
       "      <td>46.8</td>\n",
       "      <td>47.6</td>\n",
       "      <td>48.8</td>\n",
       "    </tr>\n",
       "    <tr>\n",
       "      <th>2013</th>\n",
       "      <td>46.6</td>\n",
       "      <td>55.0</td>\n",
       "      <td>64.1</td>\n",
       "    </tr>\n",
       "    <tr>\n",
       "      <th>2014</th>\n",
       "      <td>52.8</td>\n",
       "      <td>60.7</td>\n",
       "      <td>67.9</td>\n",
       "    </tr>\n",
       "    <tr>\n",
       "      <th>2015</th>\n",
       "      <td>53.0</td>\n",
       "      <td>61.7</td>\n",
       "      <td>73.2</td>\n",
       "    </tr>\n",
       "    <tr>\n",
       "      <th>2016</th>\n",
       "      <td>48.1</td>\n",
       "      <td>59.6</td>\n",
       "      <td>69.3</td>\n",
       "    </tr>\n",
       "  </tbody>\n",
       "</table>\n",
       "</div>"
      ],
      "text/plain": [
       "      avg-GloVe  GloVe+W  GloVe+WR\n",
       "2012       46.8     47.6      48.8\n",
       "2013       46.6     55.0      64.1\n",
       "2014       52.8     60.7      67.9\n",
       "2015       53.0     61.7      73.2\n",
       "2016       48.1     59.6      69.3"
      ]
     },
     "execution_count": 49,
     "metadata": {},
     "output_type": "execute_result"
    }
   ],
   "source": [
    "res.mean(axis=0, level=0).round(1)"
   ]
  },
  {
   "cell_type": "markdown",
   "metadata": {},
   "source": [
    "The removal of the common component based on the first singular vector clearly further improves the performance."
   ]
  },
  {
   "cell_type": "markdown",
   "metadata": {},
   "source": [
    "To try out, instead of using the SVD first singular vector, let's rescale the sentence embeddings:"
   ]
  },
  {
   "cell_type": "code",
   "execution_count": 50,
   "metadata": {},
   "outputs": [],
   "source": [
    "def embed_avg_WR_2(sentences):\n",
    "    \"\"\"Calculate sentence embeddings for set of sentences\n",
    "    based on the weighted average of the word vectors +\n",
    "    applying subtraction of first principal component projection.\n",
    "    \"\"\"\n",
    "    \n",
    "    # weighted average of word vectors for all sentences\n",
    "    values = []\n",
    "    for s in sentences:\n",
    "        mean = sentence_vector_avg_W(s)\n",
    "        values.append(mean)\n",
    "        \n",
    "    X = np.array(values)\n",
    "    \n",
    "    # rescale\n",
    "    return (X - X.mean(axis=0)) / X.std(axis=0)"
   ]
  },
  {
   "cell_type": "code",
   "execution_count": 51,
   "metadata": {},
   "outputs": [],
   "source": [
    "res_avg_WR_2 = evaluate_tasks(files, embed_avg_WR_2)"
   ]
  },
  {
   "cell_type": "code",
   "execution_count": 52,
   "metadata": {},
   "outputs": [],
   "source": [
    "res = pd.concat([res_avg, res_avg_W, res_avg_WR, res_avg_WR_2],\n",
    "                keys=['avg-GloVe', 'GloVe+W', 'GloVe+WR', 'GloVe+W+Scale'], axis=1) * 100"
   ]
  },
  {
   "cell_type": "code",
   "execution_count": 53,
   "metadata": {},
   "outputs": [
    {
     "data": {
      "text/html": [
       "<div>\n",
       "<style scoped>\n",
       "    .dataframe tbody tr th:only-of-type {\n",
       "        vertical-align: middle;\n",
       "    }\n",
       "\n",
       "    .dataframe tbody tr th {\n",
       "        vertical-align: top;\n",
       "    }\n",
       "\n",
       "    .dataframe thead th {\n",
       "        text-align: right;\n",
       "    }\n",
       "</style>\n",
       "<table border=\"1\" class=\"dataframe\">\n",
       "  <thead>\n",
       "    <tr style=\"text-align: right;\">\n",
       "      <th></th>\n",
       "      <th>avg-GloVe</th>\n",
       "      <th>GloVe+W</th>\n",
       "      <th>GloVe+WR</th>\n",
       "      <th>GloVe+W+Scale</th>\n",
       "    </tr>\n",
       "  </thead>\n",
       "  <tbody>\n",
       "    <tr>\n",
       "      <th>2012</th>\n",
       "      <td>46.8</td>\n",
       "      <td>47.6</td>\n",
       "      <td>48.8</td>\n",
       "      <td>50.1</td>\n",
       "    </tr>\n",
       "    <tr>\n",
       "      <th>2013</th>\n",
       "      <td>46.6</td>\n",
       "      <td>55.0</td>\n",
       "      <td>64.1</td>\n",
       "      <td>65.0</td>\n",
       "    </tr>\n",
       "    <tr>\n",
       "      <th>2014</th>\n",
       "      <td>52.8</td>\n",
       "      <td>60.7</td>\n",
       "      <td>67.9</td>\n",
       "      <td>68.5</td>\n",
       "    </tr>\n",
       "    <tr>\n",
       "      <th>2015</th>\n",
       "      <td>53.0</td>\n",
       "      <td>61.7</td>\n",
       "      <td>73.2</td>\n",
       "      <td>73.4</td>\n",
       "    </tr>\n",
       "    <tr>\n",
       "      <th>2016</th>\n",
       "      <td>48.1</td>\n",
       "      <td>59.6</td>\n",
       "      <td>69.3</td>\n",
       "      <td>70.0</td>\n",
       "    </tr>\n",
       "  </tbody>\n",
       "</table>\n",
       "</div>"
      ],
      "text/plain": [
       "      avg-GloVe  GloVe+W  GloVe+WR  GloVe+W+Scale\n",
       "2012       46.8     47.6      48.8           50.1\n",
       "2013       46.6     55.0      64.1           65.0\n",
       "2014       52.8     60.7      67.9           68.5\n",
       "2015       53.0     61.7      73.2           73.4\n",
       "2016       48.1     59.6      69.3           70.0"
      ]
     },
     "execution_count": 53,
     "metadata": {},
     "output_type": "execute_result"
    }
   ],
   "source": [
    "res.mean(axis=0, level=0).round(1)"
   ]
  },
  {
   "cell_type": "markdown",
   "metadata": {},
   "source": [
    "As a further test, let's see what the influence is of not learning the SVD on the data to convert, but on training data.\n",
    "\n",
    "Therefore, I converted the embedding functions above into a sklearn-like transformer, which we then apply in a random 10-fold cross-validation setting."
   ]
  },
  {
   "cell_type": "code",
   "execution_count": 54,
   "metadata": {},
   "outputs": [],
   "source": [
    "from wordembeddings import EmbeddingVectorizer"
   ]
  },
  {
   "cell_type": "code",
   "execution_count": 55,
   "metadata": {},
   "outputs": [],
   "source": [
    "emb = EmbeddingVectorizer(word_vectors=glove, weighted=True, R=True)"
   ]
  },
  {
   "cell_type": "code",
   "execution_count": 56,
   "metadata": {},
   "outputs": [],
   "source": [
    "X = emb.fit_transform(s0)"
   ]
  },
  {
   "cell_type": "code",
   "execution_count": 57,
   "metadata": {},
   "outputs": [
    {
     "data": {
      "text/plain": [
       "array([[-0.21522961, -0.05944209, -0.15008523, ...,  0.00582434,\n",
       "         0.08136623,  0.03971812],\n",
       "       [ 0.20036008,  0.07927201, -0.13354349, ...,  0.03925085,\n",
       "         0.0614967 ,  0.01952908],\n",
       "       [ 0.03445055,  0.03194463,  0.10754277, ...,  0.01129565,\n",
       "        -0.05099302, -0.07987193],\n",
       "       ..., \n",
       "       [-0.04692298, -0.18660976,  0.02979497, ...,  0.18384892,\n",
       "         0.13451208,  0.0519629 ],\n",
       "       [ 0.01919211,  0.04019597,  0.1699589 , ..., -0.06129473,\n",
       "         0.09762889, -0.10718969],\n",
       "       [ 0.23537602, -0.03565443, -0.01905269, ..., -0.07654032,\n",
       "        -0.24171372,  0.04245305]])"
      ]
     },
     "execution_count": 57,
     "metadata": {},
     "output_type": "execute_result"
    }
   ],
   "source": [
    "X"
   ]
  },
  {
   "cell_type": "code",
   "execution_count": 58,
   "metadata": {},
   "outputs": [],
   "source": [
    "from sklearn.model_selection import KFold"
   ]
  },
  {
   "cell_type": "code",
   "execution_count": 59,
   "metadata": {},
   "outputs": [],
   "source": [
    "kf = KFold(n_splits=10, shuffle=True)"
   ]
  },
  {
   "cell_type": "code",
   "execution_count": 60,
   "metadata": {},
   "outputs": [],
   "source": [
    "tests = []\n",
    "scores = []\n",
    "scores_CV = []\n",
    "\n",
    "for f in files:\n",
    "    s0, s1, labels = load_sts(f)\n",
    "\n",
    "\n",
    "    s0 = np.array(s0)\n",
    "    s1 = np.array(s1)\n",
    "    labels = np.array(labels)\n",
    "\n",
    "    # on all data\n",
    "    X = np.concatenate((s0, s1), axis=0)\n",
    "    embedded = EmbeddingVectorizer(word_vectors=glove, weighted=True, R=True).fit_transform(X)\n",
    "    Vs0 = embedded[:s0.shape[0]]\n",
    "    Vs1 = embedded[s0.shape[0]:]\n",
    "\n",
    "    predicted = np.array([cosine_similarity(vs0, vs1) for vs0, vs1 in zip(Vs0, Vs1)])\n",
    "    rp = pearsonr(predicted, labels)[0]\n",
    "\n",
    "    # using cross-validation\n",
    "\n",
    "    predicted = []\n",
    "    y = []\n",
    "\n",
    "    for train_index, test_index in kf.split(s0):\n",
    "        #print(train_index, test_index)\n",
    "        X_train0, X_test0 = s0[train_index], s0[test_index]\n",
    "        X_train1, X_test1 = s1[train_index], s1[test_index]\n",
    "\n",
    "        y_train, y_test = labels[train_index], labels[test_index]\n",
    "\n",
    "        X_train = np.concatenate((X_train0, X_train1), axis=0)\n",
    "        X_test = np.concatenate((X_test0, X_test1), axis=0)\n",
    "\n",
    "        emb = EmbeddingVectorizer(word_vectors=glove, weighted=True, R=True).fit(X_train)\n",
    "        embedded = emb.transform(X_test)\n",
    "\n",
    "        Vs0 = embedded[:X_test0.shape[0]]\n",
    "        Vs1 = embedded[X_test0.shape[0]:]\n",
    "        pred = np.array([cosine_similarity(vs0, vs1) for vs0, vs1 in zip(Vs0, Vs1)])\n",
    "\n",
    "        predicted.append(pred)\n",
    "        y.append(y_test)\n",
    "\n",
    "    predicted = np.concatenate(predicted)\n",
    "    y = np.concatenate(y)\n",
    "    rp_CV = pearsonr(predicted, y)[0]\n",
    "    \n",
    "    scores.append(rp)\n",
    "    scores_CV.append(rp_CV)\n",
    "    name = f.split('/')[-1].split('.')\n",
    "    tests.append((name[0], name[1]))\n",
    "    \n",
    "res = pd.DataFrame({'all': scores, 'CV': scores_CV}, index=pd.MultiIndex.from_tuples(tests), columns=['all', 'CV'])"
   ]
  },
  {
   "cell_type": "code",
   "execution_count": 61,
   "metadata": {},
   "outputs": [],
   "source": [
    "res = res * 100"
   ]
  },
  {
   "cell_type": "code",
   "execution_count": 62,
   "metadata": {},
   "outputs": [
    {
     "data": {
      "text/html": [
       "<div>\n",
       "<style scoped>\n",
       "    .dataframe tbody tr th:only-of-type {\n",
       "        vertical-align: middle;\n",
       "    }\n",
       "\n",
       "    .dataframe tbody tr th {\n",
       "        vertical-align: top;\n",
       "    }\n",
       "\n",
       "    .dataframe thead th {\n",
       "        text-align: right;\n",
       "    }\n",
       "</style>\n",
       "<table border=\"1\" class=\"dataframe\">\n",
       "  <thead>\n",
       "    <tr style=\"text-align: right;\">\n",
       "      <th></th>\n",
       "      <th></th>\n",
       "      <th>all</th>\n",
       "      <th>CV</th>\n",
       "    </tr>\n",
       "  </thead>\n",
       "  <tbody>\n",
       "    <tr>\n",
       "      <th rowspan=\"4\" valign=\"top\">2012</th>\n",
       "      <th>MSRpar</th>\n",
       "      <td>28.3</td>\n",
       "      <td>28.3</td>\n",
       "    </tr>\n",
       "    <tr>\n",
       "      <th>OnWN</th>\n",
       "      <td>68.5</td>\n",
       "      <td>68.5</td>\n",
       "    </tr>\n",
       "    <tr>\n",
       "      <th>SMTeuroparl</th>\n",
       "      <td>49.1</td>\n",
       "      <td>49.1</td>\n",
       "    </tr>\n",
       "    <tr>\n",
       "      <th>SMTnews</th>\n",
       "      <td>49.7</td>\n",
       "      <td>49.7</td>\n",
       "    </tr>\n",
       "    <tr>\n",
       "      <th rowspan=\"3\" valign=\"top\">2013</th>\n",
       "      <th>FNWN</th>\n",
       "      <td>42.3</td>\n",
       "      <td>42.2</td>\n",
       "    </tr>\n",
       "    <tr>\n",
       "      <th>headlines</th>\n",
       "      <td>70.7</td>\n",
       "      <td>70.7</td>\n",
       "    </tr>\n",
       "    <tr>\n",
       "      <th>OnWN</th>\n",
       "      <td>78.5</td>\n",
       "      <td>78.5</td>\n",
       "    </tr>\n",
       "    <tr>\n",
       "      <th rowspan=\"6\" valign=\"top\">2014</th>\n",
       "      <th>deft-forum</th>\n",
       "      <td>36.2</td>\n",
       "      <td>36.2</td>\n",
       "    </tr>\n",
       "    <tr>\n",
       "      <th>deft-news</th>\n",
       "      <td>72.2</td>\n",
       "      <td>72.2</td>\n",
       "    </tr>\n",
       "    <tr>\n",
       "      <th>headlines</th>\n",
       "      <td>66.7</td>\n",
       "      <td>66.7</td>\n",
       "    </tr>\n",
       "    <tr>\n",
       "      <th>images</th>\n",
       "      <td>82.6</td>\n",
       "      <td>82.6</td>\n",
       "    </tr>\n",
       "    <tr>\n",
       "      <th>OnWN</th>\n",
       "      <td>80.9</td>\n",
       "      <td>80.9</td>\n",
       "    </tr>\n",
       "    <tr>\n",
       "      <th>tweet-news</th>\n",
       "      <td>66.2</td>\n",
       "      <td>66.3</td>\n",
       "    </tr>\n",
       "    <tr>\n",
       "      <th rowspan=\"5\" valign=\"top\">2015</th>\n",
       "      <th>answers-forums</th>\n",
       "      <td>62.1</td>\n",
       "      <td>62.0</td>\n",
       "    </tr>\n",
       "    <tr>\n",
       "      <th>answers-students</th>\n",
       "      <td>72.7</td>\n",
       "      <td>72.6</td>\n",
       "    </tr>\n",
       "    <tr>\n",
       "      <th>belief</th>\n",
       "      <td>74.3</td>\n",
       "      <td>74.3</td>\n",
       "    </tr>\n",
       "    <tr>\n",
       "      <th>headlines</th>\n",
       "      <td>74.9</td>\n",
       "      <td>74.9</td>\n",
       "    </tr>\n",
       "    <tr>\n",
       "      <th>images</th>\n",
       "      <td>82.0</td>\n",
       "      <td>82.0</td>\n",
       "    </tr>\n",
       "    <tr>\n",
       "      <th rowspan=\"5\" valign=\"top\">2016</th>\n",
       "      <th>answer-answer</th>\n",
       "      <td>50.0</td>\n",
       "      <td>50.0</td>\n",
       "    </tr>\n",
       "    <tr>\n",
       "      <th>headlines</th>\n",
       "      <td>71.3</td>\n",
       "      <td>71.3</td>\n",
       "    </tr>\n",
       "    <tr>\n",
       "      <th>plagiarism</th>\n",
       "      <td>76.6</td>\n",
       "      <td>76.6</td>\n",
       "    </tr>\n",
       "    <tr>\n",
       "      <th>postediting</th>\n",
       "      <td>79.4</td>\n",
       "      <td>79.3</td>\n",
       "    </tr>\n",
       "    <tr>\n",
       "      <th>question-question</th>\n",
       "      <td>69.3</td>\n",
       "      <td>69.3</td>\n",
       "    </tr>\n",
       "  </tbody>\n",
       "</table>\n",
       "</div>"
      ],
      "text/plain": [
       "                         all    CV\n",
       "2012 MSRpar             28.3  28.3\n",
       "     OnWN               68.5  68.5\n",
       "     SMTeuroparl        49.1  49.1\n",
       "     SMTnews            49.7  49.7\n",
       "2013 FNWN               42.3  42.2\n",
       "     headlines          70.7  70.7\n",
       "     OnWN               78.5  78.5\n",
       "2014 deft-forum         36.2  36.2\n",
       "     deft-news          72.2  72.2\n",
       "     headlines          66.7  66.7\n",
       "     images             82.6  82.6\n",
       "     OnWN               80.9  80.9\n",
       "     tweet-news         66.2  66.3\n",
       "2015 answers-forums     62.1  62.0\n",
       "     answers-students   72.7  72.6\n",
       "     belief             74.3  74.3\n",
       "     headlines          74.9  74.9\n",
       "     images             82.0  82.0\n",
       "2016 answer-answer      50.0  50.0\n",
       "     headlines          71.3  71.3\n",
       "     plagiarism         76.6  76.6\n",
       "     postediting        79.4  79.3\n",
       "     question-question  69.3  69.3"
      ]
     },
     "execution_count": 62,
     "metadata": {},
     "output_type": "execute_result"
    }
   ],
   "source": [
    "res.round(1)"
   ]
  },
  {
   "cell_type": "code",
   "execution_count": 63,
   "metadata": {},
   "outputs": [
    {
     "data": {
      "text/html": [
       "<div>\n",
       "<style scoped>\n",
       "    .dataframe tbody tr th:only-of-type {\n",
       "        vertical-align: middle;\n",
       "    }\n",
       "\n",
       "    .dataframe tbody tr th {\n",
       "        vertical-align: top;\n",
       "    }\n",
       "\n",
       "    .dataframe thead th {\n",
       "        text-align: right;\n",
       "    }\n",
       "</style>\n",
       "<table border=\"1\" class=\"dataframe\">\n",
       "  <thead>\n",
       "    <tr style=\"text-align: right;\">\n",
       "      <th></th>\n",
       "      <th>all</th>\n",
       "      <th>CV</th>\n",
       "    </tr>\n",
       "  </thead>\n",
       "  <tbody>\n",
       "    <tr>\n",
       "      <th>2012</th>\n",
       "      <td>48.9</td>\n",
       "      <td>48.9</td>\n",
       "    </tr>\n",
       "    <tr>\n",
       "      <th>2013</th>\n",
       "      <td>63.8</td>\n",
       "      <td>63.8</td>\n",
       "    </tr>\n",
       "    <tr>\n",
       "      <th>2014</th>\n",
       "      <td>67.5</td>\n",
       "      <td>67.5</td>\n",
       "    </tr>\n",
       "    <tr>\n",
       "      <th>2015</th>\n",
       "      <td>73.2</td>\n",
       "      <td>73.2</td>\n",
       "    </tr>\n",
       "    <tr>\n",
       "      <th>2016</th>\n",
       "      <td>69.3</td>\n",
       "      <td>69.3</td>\n",
       "    </tr>\n",
       "  </tbody>\n",
       "</table>\n",
       "</div>"
      ],
      "text/plain": [
       "       all    CV\n",
       "2012  48.9  48.9\n",
       "2013  63.8  63.8\n",
       "2014  67.5  67.5\n",
       "2015  73.2  73.2\n",
       "2016  69.3  69.3"
      ]
     },
     "execution_count": 63,
     "metadata": {},
     "output_type": "execute_result"
    }
   ],
   "source": [
    "res.mean(axis=0, level=0).round(1)"
   ]
  },
  {
   "cell_type": "code",
   "execution_count": null,
   "metadata": {
    "collapsed": true
   },
   "outputs": [],
   "source": []
  },
  {
   "cell_type": "code",
   "execution_count": 61,
   "metadata": {},
   "outputs": [
    {
     "data": {
      "text/html": [
       "<style type=\"text/css\">\n",
       "table.dataframe th {\n",
       "  vertical-align: top;\n",
       "}"
      ],
      "text/plain": [
       "<IPython.core.display.HTML object>"
      ]
     },
     "execution_count": 61,
     "metadata": {},
     "output_type": "execute_result"
    }
   ],
   "source": [
    "from IPython.display import HTML\n",
    "HTML(\"\"\"<style type=\"text/css\">\n",
    "table.dataframe th {\n",
    "  vertical-align: top;\n",
    "}\"\"\")"
   ]
  }
 ],
 "metadata": {
  "kernelspec": {
   "display_name": "Python 3",
   "language": "python",
   "name": "python3"
  },
  "language_info": {
   "codemirror_mode": {
    "name": "ipython",
    "version": 3
   },
   "file_extension": ".py",
   "mimetype": "text/x-python",
   "name": "python",
   "nbconvert_exporter": "python",
   "pygments_lexer": "ipython3",
   "version": "3.6.3"
  }
 },
 "nbformat": 4,
 "nbformat_minor": 2
}
